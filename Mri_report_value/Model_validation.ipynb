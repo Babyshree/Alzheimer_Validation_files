{
 "cells": [
  {
   "cell_type": "code",
   "execution_count": 1,
   "id": "1823e39e",
   "metadata": {},
   "outputs": [],
   "source": [
    "import pandas as pd\n",
    "import joblib\n",
    "\n",
    "# Load the KNN model from the pickle file\n",
    "knn = joblib.load(r\"C:\\Users\\jbaby\\documents\\Final_yr_pro\\Fixed\\Mri_report_value\\model.pkl\")"
   ]
  },
  {
   "cell_type": "code",
   "execution_count": 2,
   "id": "dfd7b6a9",
   "metadata": {},
   "outputs": [
    {
     "name": "stdout",
     "output_type": "stream",
     "text": [
      "Predicted CDR: Demented\n"
     ]
    }
   ],
   "source": [
    "import numpy as np\n",
    "import pandas as pd\n",
    "from sklearn.neighbors import KNeighborsClassifier\n",
    "\n",
    "# Assuming you have a trained KNN model\n",
    "# knn = ...  # Load your trained KNN model here\n",
    "\n",
    "# Create a DataFrame with the provided data\n",
    "data = pd.DataFrame({\n",
    "    'M/F': [0],\n",
    "    'EDUC': [9],\n",
    "    'SES': [2],\n",
    "    'MMSE': [17],\n",
    "    'CDR': [1.0],\n",
    "    'eTIV': [1579],\n",
    "    'nWBV': [0.561039],\n",
    "    'ASF': [1.232217],\n",
    "    'Age_Category': [0]  # Age_Category value is not provided, set to 0 for demonstration\n",
    "})\n",
    "\n",
    "# Make predictions using the pre-trained KNN model\n",
    "# Replace 'knn' with your trained KNN model\n",
    "predictions = knn.predict(data)\n",
    "\n",
    "print(f\"Predicted CDR: {predictions[0]}\")\n"
   ]
  },
  {
   "cell_type": "code",
   "execution_count": 3,
   "id": "09d26b70",
   "metadata": {},
   "outputs": [
    {
     "name": "stdout",
     "output_type": "stream",
     "text": [
      "Predicted CDR: Nondemented\n"
     ]
    }
   ],
   "source": [
    "import numpy as np\n",
    "import pandas as pd\n",
    "from sklearn.neighbors import KNeighborsClassifier\n",
    "\n",
    "# Assuming you have a trained KNN model\n",
    "# knn = ...  # Load your trained KNN model here\n",
    "\n",
    "# Create a DataFrame with the provided data\n",
    "data = pd.DataFrame({\n",
    "    'M/F': [1],\n",
    "    'EDUC': [18],\n",
    "    'SES': [8],\n",
    "    'MMSE': [30],\n",
    "    'CDR': [0.0],\n",
    "    'eTIV': [1551],\n",
    "    'nWBV': [0.769693],\n",
    "    'ASF': [1.516465],\n",
    "    'Age_Category': [0]  # Age_Category value is not provided, set to 0 for demonstration\n",
    "})\n",
    "\n",
    "# Make predictions using the pre-trained KNN model\n",
    "# Replace 'knn' with your trained KNN model\n",
    "predictions = knn.predict(data)\n",
    "\n",
    "print(f\"Predicted CDR: {predictions[0]}\")"
   ]
  },
  {
   "cell_type": "code",
   "execution_count": 4,
   "id": "e81f887f",
   "metadata": {},
   "outputs": [],
   "source": [
    "# # Get user input for each feature\n",
    "# gender = int(input(\"Enter M/F (0 for Female, 1 for Male): \"))\n",
    "# educ = int(input(\"Enter EDUC: \"))\n",
    "# ses = int(input(\"Enter SES: \"))\n",
    "# mmse = int(input(\"Enter MMSE: \"))\n",
    "# cdr = float(input(\"Enter CDR: \"))\n",
    "# etiv = int(input(\"Enter eTIV: \"))\n",
    "# nwv = float(input(\"Enter nWBV: \"))\n",
    "# asf = float(input(\"Enter ASF: \"))\n",
    "# age_category = int(input(\"Enter Age_Category (1 for 30 to 45, 2 for 46 to 55, 3 for 56 to 70, 4 for 70 above): \"))\n",
    "\n",
    "# # Create a DataFrame from user input\n",
    "# data = pd.DataFrame({\n",
    "#     'M/F': [gender],\n",
    "#     'EDUC': [educ],\n",
    "#     'SES': [ses],\n",
    "#     'MMSE': [mmse],\n",
    "#     'CDR': [cdr],\n",
    "#     'eTIV': [etiv],\n",
    "#     'nWBV': [nwv],\n",
    "#     'ASF': [asf],\n",
    "#     'Age_Category': [age_category]\n",
    "# })\n",
    "\n",
    "# # Make predictions\n",
    "# predictions = knn.predict(data)\n",
    "\n",
    "# # Display predictions\n",
    "# print(\"\\nPredicted CDR:\")\n",
    "# print(predictions[0])\n"
   ]
  }
 ],
 "metadata": {
  "kernelspec": {
   "display_name": "Python 3 (ipykernel)",
   "language": "python",
   "name": "python3"
  },
  "language_info": {
   "codemirror_mode": {
    "name": "ipython",
    "version": 3
   },
   "file_extension": ".py",
   "mimetype": "text/x-python",
   "name": "python",
   "nbconvert_exporter": "python",
   "pygments_lexer": "ipython3",
   "version": "3.11.5"
  }
 },
 "nbformat": 4,
 "nbformat_minor": 5
}
