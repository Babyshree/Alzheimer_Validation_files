{
 "cells": [
  {
   "cell_type": "code",
   "execution_count": 1,
   "id": "1823e39e",
   "metadata": {},
   "outputs": [],
   "source": [
    "import pandas as pd\n",
    "import joblib\n",
    "\n",
    "# Load the KNN model from the pickle file\n",
    "knn = joblib.load(r\"C:\\Users\\jbaby\\documents\\Final_yr_pro\\Fixed\\Mri_report_value\\model.pkl\")"
   ]
  },
  {
   "cell_type": "code",
   "execution_count": 4,
   "id": "dfd7b6a9",
   "metadata": {},
   "outputs": [
    {
     "name": "stdout",
     "output_type": "stream",
     "text": [
      "Predicted CDR: Demented\n"
     ]
    }
   ],
   "source": [
    "import numpy as np\n",
    "import pandas as pd\n",
    "from sklearn.neighbors import KNeighborsClassifier\n",
    "\n",
    "# Assuming you have a trained KNN model\n",
    "# knn = ...  # Load your trained KNN model here\n",
    "\n",
    "# Create a DataFrame with the provided data\n",
    "data = pd.DataFrame({\n",
    "    'M/F': [0],\n",
    "    'EDUC': [9],\n",
    "    'SES': [2],\n",
    "    'MMSE': [17],\n",
    "    'CDR': [1.0],\n",
    "    'eTIV': [1579],\n",
    "    'nWBV': [0.561039],\n",
    "    'ASF': [1.232217],\n",
    "    'Age_Category': [0]  # Age_Category value is not provided, set to 0 for demonstration\n",
    "})\n",
    "\n",
    "# Make predictions using the pre-trained KNN model\n",
    "# Replace 'knn' with your trained KNN model\n",
    "predictions = knn.predict(data)\n",
    "\n",
    "print(f\"Predicted CDR: {predictions[0]}\")\n"
   ]
  },
  {
   "cell_type": "code",
   "execution_count": 5,
   "id": "09d26b70",
   "metadata": {},
   "outputs": [
    {
     "name": "stdout",
     "output_type": "stream",
     "text": [
      "Predicted CDR: Nondemented\n"
     ]
    }
   ],
   "source": [
    "import numpy as np\n",
    "import pandas as pd\n",
    "from sklearn.neighbors import KNeighborsClassifier\n",
    "\n",
    "# Assuming you have a trained KNN model\n",
    "# knn = ...  # Load your trained KNN model here\n",
    "\n",
    "# Create a DataFrame with the provided data\n",
    "data = pd.DataFrame({\n",
    "    'M/F': [1],\n",
    "    'EDUC': [18],\n",
    "    'SES': [8],\n",
    "    'MMSE': [30],\n",
    "    'CDR': [0.0],\n",
    "    'eTIV': [1551],\n",
    "    'nWBV': [0.769693],\n",
    "    'ASF': [1.516465],\n",
    "    'Age_Category': [0]  # Age_Category value is not provided, set to 0 for demonstration\n",
    "})\n",
    "\n",
    "# Make predictions using the pre-trained KNN model\n",
    "# Replace 'knn' with your trained KNN model\n",
    "predictions = knn.predict(data)\n",
    "\n",
    "print(f\"Predicted CDR: {predictions[0]}\")"
   ]
  },
  {
   "cell_type": "code",
   "execution_count": 7,
   "id": "e81f887f",
   "metadata": {},
   "outputs": [
    {
     "name": "stdout",
     "output_type": "stream",
     "text": [
      "Enter Gender (M/F) (0 for Female, 1 for Male): 1\n",
      "Enter Education (EDUC): 18\n",
      "Enter Socio-Economic Status (SES): 8\n",
      "Enter Mini-Mental State Examination (MMSE): 30\n",
      "Enter Clinical Dementia Rating (CDR): 0.0\n",
      "Enter Estimated Total Intracranial Volume (eTIV): 1551\n",
      "Enter Normalized Whole Brain Volume (nWBV): 0.7696\n",
      "Enter Atlas Scaling Factor (ASF): 1.516\n",
      "Enter Age_Category (1 for 30 to 45, 2 for 46 to 55, 3 for 56 to 70, 4 for 70 above): 0\n"
     ]
    },
    {
     "ename": "ValueError",
     "evalue": "The feature names should match those that were passed during fit.\nFeature names unseen at fit time:\n- Atlas Scaling Factor (ASF)\n- Clinical Dementia Rating (CDR)\n- Education (EDUC)\n- Estimated Total Intracranial Volume (eTIV)\n- Gender (M/F)\n- ...\nFeature names seen at fit time, yet now missing:\n- ASF\n- CDR\n- EDUC\n- M/F\n- MMSE\n- ...\n",
     "output_type": "error",
     "traceback": [
      "\u001b[1;31m---------------------------------------------------------------------------\u001b[0m",
      "\u001b[1;31mValueError\u001b[0m                                Traceback (most recent call last)",
      "Cell \u001b[1;32mIn[7], line 34\u001b[0m\n\u001b[0;32m     21\u001b[0m data \u001b[38;5;241m=\u001b[39m pd\u001b[38;5;241m.\u001b[39mDataFrame({\n\u001b[0;32m     22\u001b[0m     \u001b[38;5;124m'\u001b[39m\u001b[38;5;124mGender (M/F)\u001b[39m\u001b[38;5;124m'\u001b[39m: [gender],\n\u001b[0;32m     23\u001b[0m     \u001b[38;5;124m'\u001b[39m\u001b[38;5;124mEducation (EDUC)\u001b[39m\u001b[38;5;124m'\u001b[39m: [educ],\n\u001b[1;32m   (...)\u001b[0m\n\u001b[0;32m     30\u001b[0m     \u001b[38;5;124m'\u001b[39m\u001b[38;5;124mAge_Category\u001b[39m\u001b[38;5;124m'\u001b[39m: [age_category]\n\u001b[0;32m     31\u001b[0m })\n\u001b[0;32m     33\u001b[0m \u001b[38;5;66;03m# Make predictions\u001b[39;00m\n\u001b[1;32m---> 34\u001b[0m predictions \u001b[38;5;241m=\u001b[39m knn\u001b[38;5;241m.\u001b[39mpredict(data)\n\u001b[0;32m     36\u001b[0m \u001b[38;5;66;03m# Display predictions\u001b[39;00m\n\u001b[0;32m     37\u001b[0m \u001b[38;5;28mprint\u001b[39m(\u001b[38;5;124m\"\u001b[39m\u001b[38;5;130;01m\\n\u001b[39;00m\u001b[38;5;124mPredicted CDR:\u001b[39m\u001b[38;5;124m\"\u001b[39m)\n",
      "File \u001b[1;32m~\\AppData\\Roaming\\Python\\Python311\\site-packages\\sklearn\\neighbors\\_classification.py:271\u001b[0m, in \u001b[0;36mKNeighborsClassifier.predict\u001b[1;34m(self, X)\u001b[0m\n\u001b[0;32m    268\u001b[0m         \u001b[38;5;28;01mreturn\u001b[39;00m \u001b[38;5;28mself\u001b[39m\u001b[38;5;241m.\u001b[39mclasses_[np\u001b[38;5;241m.\u001b[39margmax(probabilities, axis\u001b[38;5;241m=\u001b[39m\u001b[38;5;241m1\u001b[39m)]\n\u001b[0;32m    269\u001b[0m     \u001b[38;5;66;03m# In that case, we do not need the distances to perform\u001b[39;00m\n\u001b[0;32m    270\u001b[0m     \u001b[38;5;66;03m# the weighting so we do not compute them.\u001b[39;00m\n\u001b[1;32m--> 271\u001b[0m     neigh_ind \u001b[38;5;241m=\u001b[39m \u001b[38;5;28mself\u001b[39m\u001b[38;5;241m.\u001b[39mkneighbors(X, return_distance\u001b[38;5;241m=\u001b[39m\u001b[38;5;28;01mFalse\u001b[39;00m)\n\u001b[0;32m    272\u001b[0m     neigh_dist \u001b[38;5;241m=\u001b[39m \u001b[38;5;28;01mNone\u001b[39;00m\n\u001b[0;32m    273\u001b[0m \u001b[38;5;28;01melse\u001b[39;00m:\n",
      "File \u001b[1;32m~\\AppData\\Roaming\\Python\\Python311\\site-packages\\sklearn\\neighbors\\_base.py:826\u001b[0m, in \u001b[0;36mKNeighborsMixin.kneighbors\u001b[1;34m(self, X, n_neighbors, return_distance)\u001b[0m\n\u001b[0;32m    824\u001b[0m         X \u001b[38;5;241m=\u001b[39m _check_precomputed(X)\n\u001b[0;32m    825\u001b[0m     \u001b[38;5;28;01melse\u001b[39;00m:\n\u001b[1;32m--> 826\u001b[0m         X \u001b[38;5;241m=\u001b[39m \u001b[38;5;28mself\u001b[39m\u001b[38;5;241m.\u001b[39m_validate_data(X, accept_sparse\u001b[38;5;241m=\u001b[39m\u001b[38;5;124m\"\u001b[39m\u001b[38;5;124mcsr\u001b[39m\u001b[38;5;124m\"\u001b[39m, reset\u001b[38;5;241m=\u001b[39m\u001b[38;5;28;01mFalse\u001b[39;00m, order\u001b[38;5;241m=\u001b[39m\u001b[38;5;124m\"\u001b[39m\u001b[38;5;124mC\u001b[39m\u001b[38;5;124m\"\u001b[39m)\n\u001b[0;32m    828\u001b[0m n_samples_fit \u001b[38;5;241m=\u001b[39m \u001b[38;5;28mself\u001b[39m\u001b[38;5;241m.\u001b[39mn_samples_fit_\n\u001b[0;32m    829\u001b[0m \u001b[38;5;28;01mif\u001b[39;00m n_neighbors \u001b[38;5;241m>\u001b[39m n_samples_fit:\n",
      "File \u001b[1;32m~\\AppData\\Roaming\\Python\\Python311\\site-packages\\sklearn\\base.py:608\u001b[0m, in \u001b[0;36mBaseEstimator._validate_data\u001b[1;34m(self, X, y, reset, validate_separately, cast_to_ndarray, **check_params)\u001b[0m\n\u001b[0;32m    537\u001b[0m \u001b[38;5;28;01mdef\u001b[39;00m \u001b[38;5;21m_validate_data\u001b[39m(\n\u001b[0;32m    538\u001b[0m     \u001b[38;5;28mself\u001b[39m,\n\u001b[0;32m    539\u001b[0m     X\u001b[38;5;241m=\u001b[39m\u001b[38;5;124m\"\u001b[39m\u001b[38;5;124mno_validation\u001b[39m\u001b[38;5;124m\"\u001b[39m,\n\u001b[1;32m   (...)\u001b[0m\n\u001b[0;32m    544\u001b[0m     \u001b[38;5;241m*\u001b[39m\u001b[38;5;241m*\u001b[39mcheck_params,\n\u001b[0;32m    545\u001b[0m ):\n\u001b[0;32m    546\u001b[0m \u001b[38;5;250m    \u001b[39m\u001b[38;5;124;03m\"\"\"Validate input data and set or check the `n_features_in_` attribute.\u001b[39;00m\n\u001b[0;32m    547\u001b[0m \n\u001b[0;32m    548\u001b[0m \u001b[38;5;124;03m    Parameters\u001b[39;00m\n\u001b[1;32m   (...)\u001b[0m\n\u001b[0;32m    606\u001b[0m \u001b[38;5;124;03m        validated.\u001b[39;00m\n\u001b[0;32m    607\u001b[0m \u001b[38;5;124;03m    \"\"\"\u001b[39;00m\n\u001b[1;32m--> 608\u001b[0m     \u001b[38;5;28mself\u001b[39m\u001b[38;5;241m.\u001b[39m_check_feature_names(X, reset\u001b[38;5;241m=\u001b[39mreset)\n\u001b[0;32m    610\u001b[0m     \u001b[38;5;28;01mif\u001b[39;00m y \u001b[38;5;129;01mis\u001b[39;00m \u001b[38;5;28;01mNone\u001b[39;00m \u001b[38;5;129;01mand\u001b[39;00m \u001b[38;5;28mself\u001b[39m\u001b[38;5;241m.\u001b[39m_get_tags()[\u001b[38;5;124m\"\u001b[39m\u001b[38;5;124mrequires_y\u001b[39m\u001b[38;5;124m\"\u001b[39m]:\n\u001b[0;32m    611\u001b[0m         \u001b[38;5;28;01mraise\u001b[39;00m \u001b[38;5;167;01mValueError\u001b[39;00m(\n\u001b[0;32m    612\u001b[0m             \u001b[38;5;124mf\u001b[39m\u001b[38;5;124m\"\u001b[39m\u001b[38;5;124mThis \u001b[39m\u001b[38;5;132;01m{\u001b[39;00m\u001b[38;5;28mself\u001b[39m\u001b[38;5;241m.\u001b[39m\u001b[38;5;18m__class__\u001b[39m\u001b[38;5;241m.\u001b[39m\u001b[38;5;18m__name__\u001b[39m\u001b[38;5;132;01m}\u001b[39;00m\u001b[38;5;124m estimator \u001b[39m\u001b[38;5;124m\"\u001b[39m\n\u001b[0;32m    613\u001b[0m             \u001b[38;5;124m\"\u001b[39m\u001b[38;5;124mrequires y to be passed, but the target y is None.\u001b[39m\u001b[38;5;124m\"\u001b[39m\n\u001b[0;32m    614\u001b[0m         )\n",
      "File \u001b[1;32m~\\AppData\\Roaming\\Python\\Python311\\site-packages\\sklearn\\base.py:535\u001b[0m, in \u001b[0;36mBaseEstimator._check_feature_names\u001b[1;34m(self, X, reset)\u001b[0m\n\u001b[0;32m    530\u001b[0m \u001b[38;5;28;01mif\u001b[39;00m \u001b[38;5;129;01mnot\u001b[39;00m missing_names \u001b[38;5;129;01mand\u001b[39;00m \u001b[38;5;129;01mnot\u001b[39;00m unexpected_names:\n\u001b[0;32m    531\u001b[0m     message \u001b[38;5;241m+\u001b[39m\u001b[38;5;241m=\u001b[39m (\n\u001b[0;32m    532\u001b[0m         \u001b[38;5;124m\"\u001b[39m\u001b[38;5;124mFeature names must be in the same order as they were in fit.\u001b[39m\u001b[38;5;130;01m\\n\u001b[39;00m\u001b[38;5;124m\"\u001b[39m\n\u001b[0;32m    533\u001b[0m     )\n\u001b[1;32m--> 535\u001b[0m \u001b[38;5;28;01mraise\u001b[39;00m \u001b[38;5;167;01mValueError\u001b[39;00m(message)\n",
      "\u001b[1;31mValueError\u001b[0m: The feature names should match those that were passed during fit.\nFeature names unseen at fit time:\n- Atlas Scaling Factor (ASF)\n- Clinical Dementia Rating (CDR)\n- Education (EDUC)\n- Estimated Total Intracranial Volume (eTIV)\n- Gender (M/F)\n- ...\nFeature names seen at fit time, yet now missing:\n- ASF\n- CDR\n- EDUC\n- M/F\n- MMSE\n- ...\n"
     ]
    }
   ],
   "source": [
    "# Get user input for each feature\n",
    "gender = int(input(\"Enter Gender (M/F) (0 for Female, 1 for Male): \"))\n",
    "educ = int(input(\"Enter Education (EDUC): \"))\n",
    "ses = int(input(\"Enter Socio-Economic Status (SES): \"))\n",
    "mmse = int(input(\"Enter Mini-Mental State Examination (MMSE): \"))\n",
    "cdr = float(input(\"Enter Clinical Dementia Rating (CDR): \"))\n",
    "etiv = int(input(\"Enter Estimated Total Intracranial Volume (eTIV): \"))\n",
    "nwv = float(input(\"Enter Normalized Whole Brain Volume (nWBV): \"))\n",
    "asf = float(input(\"Enter Atlas Scaling Factor (ASF): \"))\n",
    "age_category = int(input(\"Enter Age_Category (1 for 30 to 45, 2 for 46 to 55, 3 for 56 to 70, 4 for 70 above): \"))\n",
    "# Gender (M/F)\n",
    "# Education (EDUC)\n",
    "# Socio-Economic Status (SES)\n",
    "# Mini-Mental State Examination (MMSE)\n",
    "# Clinical Dementia Rating (CDR)\n",
    "# Estimated Total Intracranial Volume (eTIV)\n",
    "# Normalized Whole Brain Volume (nWBV)\n",
    "# Atlas Scaling Factor (ASF)\n",
    "# Age Category\n",
    "# Create a DataFrame from user input\n",
    "data = pd.DataFrame({\n",
    "    'Gender (M/F)': [gender],\n",
    "    'Education (EDUC)': [educ],\n",
    "    'Socio-Economic Status (SES)': [ses],\n",
    "    'Mini-Mental State Examination (MMSE)': [mmse],\n",
    "    'Clinical Dementia Rating (CDR)': [cdr],\n",
    "    'Estimated Total Intracranial Volume (eTIV)': [etiv],\n",
    "    'Normalized Whole Brain Volume (nWBV)': [nwv],\n",
    "    'Atlas Scaling Factor (ASF)': [asf],\n",
    "    'Age_Category': [age_category]\n",
    "})\n",
    "\n",
    "# Make predictions\n",
    "predictions = knn.predict(data)\n",
    "\n",
    "# Display predictions\n",
    "print(\"\\nPredicted CDR:\")\n",
    "print(predictions[0])\n"
   ]
  },
  {
   "cell_type": "code",
   "execution_count": null,
   "id": "55587009",
   "metadata": {},
   "outputs": [],
   "source": [
    "#  'M/F': [1],\n",
    "#     'EDUC': [18],\n",
    "#     'SES': [8],\n",
    "#     'MMSE': [30],\n",
    "#     'CDR': [0.0],\n",
    "#     'eTIV': [1551],\n",
    "#     'nWBV': [0.769693],\n",
    "#     'ASF': [1.516465],\n",
    "#     'Age_Category': [0] "
   ]
  }
 ],
 "metadata": {
  "kernelspec": {
   "display_name": "Python 3 (ipykernel)",
   "language": "python",
   "name": "python3"
  },
  "language_info": {
   "codemirror_mode": {
    "name": "ipython",
    "version": 3
   },
   "file_extension": ".py",
   "mimetype": "text/x-python",
   "name": "python",
   "nbconvert_exporter": "python",
   "pygments_lexer": "ipython3",
   "version": "3.11.5"
  }
 },
 "nbformat": 4,
 "nbformat_minor": 5
}
