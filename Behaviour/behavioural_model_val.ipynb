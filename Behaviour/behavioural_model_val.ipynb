{
 "cells": [
  {
   "cell_type": "code",
   "execution_count": 1,
   "id": "84dbd076",
   "metadata": {},
   "outputs": [],
   "source": [
    "import pandas as pd\n",
    "import joblib\n",
    "\n",
    "# Load the KNN model from the pickle file\n",
    "svm = joblib.load(r\"C:\\Users\\jbaby\\documents\\Final_yr_pro\\Fixed\\Behaviour\\behavioral_model.pkl\")"
   ]
  },
  {
   "cell_type": "code",
   "execution_count": 2,
   "id": "e746351c",
   "metadata": {},
   "outputs": [
    {
     "name": "stdout",
     "output_type": "stream",
     "text": [
      "Enter value for Date_Forget: 0\n",
      "Enter value for Face_Recall: 0\n",
      "Enter value for Task_Planning: 0\n",
      "Enter value for Word_Expression: 0\n",
      "Enter value for Mood_Shift: 0\n",
      "Enter value for Adaptability: 0\n",
      "Enter value for Solution_Finding: 0\n",
      "Enter value for Sleep_Patterns: 0\n",
      "Enter value for Appetite_Changes: 0\n",
      "Enter value for Interest_Enthusiasm: 0\n",
      "Enter value for Financial_Matters: 0\n",
      "Enter value for Tech_Adaptation: 0\n",
      "Enter value for Independence_Decrease: 0\n",
      "Enter value for Home_Navigation: 0\n"
     ]
    },
    {
     "data": {
      "text/plain": [
       "{'Date_Forget': 0,\n",
       " 'Face_Recall': 0,\n",
       " 'Task_Planning': 0,\n",
       " 'Word_Expression': 0,\n",
       " 'Mood_Shift': 0,\n",
       " 'Adaptability': 0,\n",
       " 'Solution_Finding': 0,\n",
       " 'Sleep_Patterns': 0,\n",
       " 'Appetite_Changes': 0,\n",
       " 'Interest_Enthusiasm': 0,\n",
       " 'Financial_Matters': 0,\n",
       " 'Tech_Adaptation': 0,\n",
       " 'Independence_Decrease': 0,\n",
       " 'Home_Navigation': 0}"
      ]
     },
     "execution_count": 2,
     "metadata": {},
     "output_type": "execute_result"
    }
   ],
   "source": [
    "columns = ['Date_Forget', 'Face_Recall', 'Task_Planning',\n",
    "       'Word_Expression', 'Mood_Shift', 'Adaptability', 'Solution_Finding',\n",
    "       'Sleep_Patterns', 'Appetite_Changes', 'Interest_Enthusiasm',\n",
    "       'Financial_Matters', 'Tech_Adaptation', 'Independence_Decrease',\n",
    "       'Home_Navigation']\n",
    "\n",
    "input_values = {}\n",
    "for column in columns:\n",
    "    value = input(f\"Enter value for {column}: \")\n",
    "    input_values[column] = int(value)  # Assuming the values are numeric, adjust data type if needed\n",
    "input_values\n"
   ]
  },
  {
   "cell_type": "code",
   "execution_count": 3,
   "id": "588efb39",
   "metadata": {},
   "outputs": [
    {
     "name": "stdout",
     "output_type": "stream",
     "text": [
      "Predicted Output: No\n"
     ]
    },
    {
     "name": "stderr",
     "output_type": "stream",
     "text": [
      "C:\\Users\\jbaby\\AppData\\Roaming\\Python\\Python311\\site-packages\\sklearn\\base.py:493: UserWarning: X does not have valid feature names, but SVC was fitted with feature names\n",
      "  warnings.warn(\n"
     ]
    }
   ],
   "source": [
    "prediction = svm.predict([list(input_values.values())])\n",
    "print(\"Predicted Output:\", prediction[0])\n"
   ]
  },
  {
   "cell_type": "code",
   "execution_count": null,
   "id": "44180df8",
   "metadata": {},
   "outputs": [],
   "source": [
    "# 0\t1\t1\t0\t1\t1\t0\t1\t0\t0\t0\t1\t0\t0\tNo\n",
    "# 2\t0\t0\t1\t0\t1\t0\t0\t0\t1\t1\t0\t0\t0\tYes"
   ]
  }
 ],
 "metadata": {
  "kernelspec": {
   "display_name": "Python 3 (ipykernel)",
   "language": "python",
   "name": "python3"
  },
  "language_info": {
   "codemirror_mode": {
    "name": "ipython",
    "version": 3
   },
   "file_extension": ".py",
   "mimetype": "text/x-python",
   "name": "python",
   "nbconvert_exporter": "python",
   "pygments_lexer": "ipython3",
   "version": "3.11.5"
  }
 },
 "nbformat": 4,
 "nbformat_minor": 5
}
