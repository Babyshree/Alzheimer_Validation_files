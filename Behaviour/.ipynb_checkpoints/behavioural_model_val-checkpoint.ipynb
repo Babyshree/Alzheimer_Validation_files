{
 "cells": [
  {
   "cell_type": "code",
   "execution_count": 1,
   "id": "84dbd076",
   "metadata": {},
   "outputs": [],
   "source": [
    "import pandas as pd\n",
    "import joblib\n",
    "\n",
    "# Load the KNN model from the pickle file\n",
    "svm = joblib.load(r\"C:\\Users\\jbaby\\documents\\Final_yr_pro\\Fixed\\Behaviour\\behavioral_model.pkl\")"
   ]
  },
  {
   "cell_type": "code",
   "execution_count": null,
   "id": "e746351c",
   "metadata": {},
   "outputs": [],
   "source": [
    "columns = ['Do you find yourself frequently forgetting names, dates, or recent events?','Have you experienced difficulties recalling familiar faces or locations?','Have you noticed any recent changes in your ability to plan or complete tasks?','Have you encountered challenges in expressing thoughts or finding the right words during conversations?','Have there been notable shifts in your mood or personality that you or others have observed?','Do you find it challenging to adapt to changes or unexpected situations?','Have you experienced a decline in your ability to find solutions to challenges?','Describe your typical sleep patterns and any recent changes in your sleep quality?','Have there been any notable changes in your appetite or eating patterns?','Have you noticed any changes in your enthusiasm for hobbies or interests you once enjoyed?','How well do you handle financial matters, such as budgeting or paying bills?','Have there been changes in your ability to learn and adapt to new technologies?','Have there been instances where you felt a decrease in your independence?','How well do you recognize and navigate within your home environment?']\n",
    "\n",
    "input_values = {}\n",
    "for column in columns:\n",
    "    value = input(f\"{column}\")\n",
    "    input_values[column] = int(value)  # Assuming the values are numeric, adjust data type if needed\n",
    "input_values\n"
   ]
  },
  {
   "cell_type": "code",
   "execution_count": 12,
   "id": "588efb39",
   "metadata": {},
   "outputs": [
    {
     "name": "stdout",
     "output_type": "stream",
     "text": [
      "Predicted Output: Yes\n"
     ]
    },
    {
     "name": "stderr",
     "output_type": "stream",
     "text": [
      "C:\\Users\\jbaby\\AppData\\Roaming\\Python\\Python311\\site-packages\\sklearn\\base.py:493: UserWarning: X does not have valid feature names, but SVC was fitted with feature names\n",
      "  warnings.warn(\n"
     ]
    }
   ],
   "source": [
    "prediction = svm.predict([list(input_values.values())])\n",
    "print(\"Predicted Output:\", prediction[0])\n"
   ]
  },
  {
   "cell_type": "code",
   "execution_count": null,
   "id": "44180df8",
   "metadata": {},
   "outputs": [],
   "source": [
    "# 0\t1\t1\t0\t1\t1\t0\t1\t0\t0\t0\t1\t0\t0\tNo\n",
    "# 2\t0\t0\t1\t0\t1\t0\t0\t0\t1\t1\t0\t0\t0\tYes"
   ]
  }
 ],
 "metadata": {
  "kernelspec": {
   "display_name": "Python 3 (ipykernel)",
   "language": "python",
   "name": "python3"
  },
  "language_info": {
   "codemirror_mode": {
    "name": "ipython",
    "version": 3
   },
   "file_extension": ".py",
   "mimetype": "text/x-python",
   "name": "python",
   "nbconvert_exporter": "python",
   "pygments_lexer": "ipython3",
   "version": "3.11.5"
  }
 },
 "nbformat": 4,
 "nbformat_minor": 5
}
