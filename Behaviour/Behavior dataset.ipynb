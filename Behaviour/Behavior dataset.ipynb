{
 "cells": [
  {
   "cell_type": "code",
   "execution_count": 1,
   "id": "fcc1d656",
   "metadata": {},
   "outputs": [],
   "source": [
    "# Do you find yourself frequently forgetting names, dates, or recent events?\n",
    "# Have you experienced difficulties recalling familiar faces or locations?\n",
    "# Have you noticed any recent changes in your ability to plan or complete tasks?\n",
    "# Have you encountered challenges in expressing thoughts or finding the right words during conversations?\n",
    "# Have there been notable shifts in your mood or personality that you or others have observed?\n",
    "# Do you find it challenging to adapt to changes or unexpected situations?\n",
    "# Have you experienced a decline in your ability to find solutions to challenges?\n",
    "# Describe your typical sleep patterns and any recent changes in your sleep quality.\n",
    "# Have there been any notable changes in your appetite or eating patterns?\n",
    "# Have you noticed any changes in your enthusiasm for hobbies or interests you once enjoyed?\n",
    "# How well do you handle financial matters, such as budgeting or paying bills?\n",
    "# Have there been changes in your ability to learn and adapt to new technologies?\n",
    "# Have there been instances where you felt a decrease in your independence?\n",
    "# How well do you recognize and navigate within your home environment?\n",
    "\n",
    "# 'Face_Recall', 'Word_Expression',\n",
    "#            'Appetite_Changes', 'Interest_Enthusiasm', 'Financial_Matters',\n",
    "#            'Independence_Decrease'\n",
    "\n",
    "\n",
    "# Have you experienced difficulties recalling familiar faces or locations?\n",
    "# Have you encountered challenges in expressing thoughts or finding the right words during conversations?\n",
    "# Describe your typical sleep patterns and any recent changes in your sleep quality.\n",
    "# Have there been any notable changes in your appetite or eating patterns?\n",
    "# Have you noticed any changes in your enthusiasm for hobbies or interests you once enjoyed?\n",
    "# How well do you handle financial matters, such as budgeting or paying bills?\n",
    "# Have there been instances where you felt a decrease in your independence?\n",
    "'Name', 'Date_Forget'\n",
    ", 'Face_Recall', 'Task_Planning', 'Word_Expression',\n",
    "           'Mood_Shift', 'Adaptability', 'Solution_Finding', 'Sleep_Patterns',\n",
    "           'Appetite_Changes', 'Interest_Enthusiasm', 'Financial_Matters',\n",
    "           'Tech_Adaptation', 'Independence_Decrease', 'Home_Navigation', 'Cognitive_Health'"
   ]
  },
  {
   "cell_type": "code",
   "execution_count": 2,
   "id": "240b0333",
   "metadata": {},
   "outputs": [
    {
     "name": "stdout",
     "output_type": "stream",
     "text": [
      "Cognitive Health Distribution:\n",
      "Cognitive_Health\n",
      "Yes    4042\n",
      "No     3958\n",
      "Name: count, dtype: int64\n"
     ]
    }
   ],
   "source": [
    "import pandas as pd\n",
    "import numpy as np\n",
    "from faker import Faker\n",
    "import matplotlib.pyplot as plt\n",
    "\n",
    "# Set a seed for reproducibility\n",
    "np.random.seed(42)\n",
    "fake = Faker()\n",
    "\n",
    "# Generate synthetic data for 8000 rows\n",
    "num_rows = 8000\n",
    "\n",
    "# Create a DataFrame with the specified columns\n",
    "columns = ['Name', 'Date_Forget', 'Face_Recall', 'Task_Planning', 'Word_Expression',\n",
    "           'Mood_Shift', 'Adaptability', 'Solution_Finding', 'Sleep_Patterns',\n",
    "           'Appetite_Changes', 'Interest_Enthusiasm', 'Financial_Matters',\n",
    "           'Tech_Adaptation', 'Independence_Decrease', 'Home_Navigation', 'Cognitive_Health']\n",
    "\n",
    "# Initialize the 'data' dictionary\n",
    "data = {'Name': [fake.name() for _ in range(num_rows)],\n",
    "        'Date_Forget': np.random.choice(['Rarely', 'Occasionally', 'Frequently'], size=num_rows)}\n",
    "\n",
    "# Add a target variable (Cognitive_Health)\n",
    "data['Cognitive_Health'] = np.random.choice(['Yes', 'No'], size=num_rows)\n",
    "\n",
    "# Set specified columns based on Cognitive_Health\n",
    "specified_columns = ['Interest_Enthusiasm', 'Financial_Matters']\n",
    "\n",
    "for column in specified_columns:\n",
    "    data[column] = np.where(data['Cognitive_Health'] == 'Yes', 'Yes', 'No')\n",
    "\n",
    "# Set Sleep_Patterns based on Cognitive_Health\n",
    "data['Sleep_Patterns'] = np.where(data['Cognitive_Health'] == 'Yes', 'Disrupted', 'Normal')\n",
    "\n",
    "# Set random 'Yes' or 'No' values for the rest of the columns\n",
    "for column in columns:\n",
    "    if column not in ['Name', 'Date_Forget', 'Cognitive_Health'] + specified_columns + ['Sleep_Patterns']:\n",
    "        data[column] = np.random.choice(['Yes', 'No'], size=num_rows)\n",
    "\n",
    "# Create the DataFrame\n",
    "df = pd.DataFrame(data, columns=columns)\n",
    "\n",
    "# Save the DataFrame to a CSV file\n",
    "df.to_csv('synthetic_dataset.csv', index=False)\n",
    "\n",
    "# Display unique values and their counts in the 'Cognitive_Health' column\n",
    "cognitive_health_counts = df['Cognitive_Health'].value_counts()\n",
    "print(\"Cognitive Health Distribution:\")\n",
    "print(cognitive_health_counts)"
   ]
  },
  {
   "cell_type": "code",
   "execution_count": 3,
   "id": "d88730c3",
   "metadata": {},
   "outputs": [],
   "source": [
    "import pandas as pd\n",
    "import numpy as np\n",
    "import random\n",
    "import string\n",
    "import matplotlib.pyplot as plt\n",
    "import seaborn as sns\n",
    "import altair as alt\n",
    "import plotly.express as px\n",
    "import plotly.graph_objects as go\n",
    "import plotly.express as px\n",
    "from wordcloud import WordCloud\n",
    "from mpl_toolkits.mplot3d import Axes3D\n",
    "from sklearn import preprocessing  \n",
    "from sklearn.preprocessing import LabelEncoder,MinMaxScaler, StandardScaler\n",
    "from sklearn.model_selection import train_test_split\n",
    "from sklearn.ensemble import RandomForestClassifier\n",
    "from sklearn.metrics import accuracy_score, classification_report, confusion_matrix\n",
    "from sklearn.metrics import mean_squared_error, r2_score\n",
    "from sklearn.neighbors import KNeighborsClassifier\n",
    "\n",
    "import warnings\n",
    "warnings.filterwarnings('ignore')\n"
   ]
  },
  {
   "cell_type": "code",
   "execution_count": 4,
   "id": "f065045d",
   "metadata": {},
   "outputs": [],
   "source": [
    "df=pd.read_csv('synthetic_dataset.csv')"
   ]
  },
  {
   "cell_type": "code",
   "execution_count": 5,
   "id": "f139f95e",
   "metadata": {},
   "outputs": [
    {
     "data": {
      "text/plain": [
       "(8000, 16)"
      ]
     },
     "execution_count": 5,
     "metadata": {},
     "output_type": "execute_result"
    }
   ],
   "source": [
    "df.shape"
   ]
  },
  {
   "cell_type": "code",
   "execution_count": 6,
   "id": "0ba12301",
   "metadata": {},
   "outputs": [
    {
     "data": {
      "text/plain": [
       "Adaptability\n",
       "Yes    4004\n",
       "No     3996\n",
       "Name: count, dtype: int64"
      ]
     },
     "execution_count": 6,
     "metadata": {},
     "output_type": "execute_result"
    }
   ],
   "source": [
    "df['Adaptability'].value_counts()"
   ]
  },
  {
   "cell_type": "code",
   "execution_count": 7,
   "id": "c817b411",
   "metadata": {},
   "outputs": [
    {
     "data": {
      "text/plain": [
       "Face_Recall\n",
       "No     4046\n",
       "Yes    3954\n",
       "Name: count, dtype: int64"
      ]
     },
     "execution_count": 7,
     "metadata": {},
     "output_type": "execute_result"
    }
   ],
   "source": [
    "df['Face_Recall'].value_counts()"
   ]
  },
  {
   "cell_type": "code",
   "execution_count": 8,
   "id": "aeab8e77",
   "metadata": {},
   "outputs": [
    {
     "data": {
      "text/plain": [
       "Task_Planning\n",
       "No     4054\n",
       "Yes    3946\n",
       "Name: count, dtype: int64"
      ]
     },
     "execution_count": 8,
     "metadata": {},
     "output_type": "execute_result"
    }
   ],
   "source": [
    "df['Task_Planning'].value_counts()"
   ]
  },
  {
   "cell_type": "code",
   "execution_count": 9,
   "id": "f0d73696",
   "metadata": {},
   "outputs": [
    {
     "data": {
      "text/plain": [
       "Word_Expression\n",
       "Yes    4001\n",
       "No     3999\n",
       "Name: count, dtype: int64"
      ]
     },
     "execution_count": 9,
     "metadata": {},
     "output_type": "execute_result"
    }
   ],
   "source": [
    "df['Word_Expression'].value_counts()"
   ]
  },
  {
   "cell_type": "code",
   "execution_count": 10,
   "id": "20fd5c55",
   "metadata": {},
   "outputs": [
    {
     "data": {
      "text/plain": [
       "Mood_Shift\n",
       "Yes    4107\n",
       "No     3893\n",
       "Name: count, dtype: int64"
      ]
     },
     "execution_count": 10,
     "metadata": {},
     "output_type": "execute_result"
    }
   ],
   "source": [
    "df['Mood_Shift'].value_counts()"
   ]
  },
  {
   "cell_type": "code",
   "execution_count": 11,
   "id": "bc28cd20",
   "metadata": {},
   "outputs": [
    {
     "data": {
      "text/plain": [
       "Sleep_Patterns\n",
       "Disrupted    4042\n",
       "Normal       3958\n",
       "Name: count, dtype: int64"
      ]
     },
     "execution_count": 11,
     "metadata": {},
     "output_type": "execute_result"
    }
   ],
   "source": [
    "df['Sleep_Patterns'].value_counts()"
   ]
  },
  {
   "cell_type": "code",
   "execution_count": 12,
   "id": "5533a3d6",
   "metadata": {},
   "outputs": [
    {
     "data": {
      "text/plain": [
       "Interest_Enthusiasm\n",
       "Yes    4042\n",
       "No     3958\n",
       "Name: count, dtype: int64"
      ]
     },
     "execution_count": 12,
     "metadata": {},
     "output_type": "execute_result"
    }
   ],
   "source": [
    "df['Interest_Enthusiasm'].value_counts()"
   ]
  },
  {
   "cell_type": "code",
   "execution_count": 13,
   "id": "fb235b0d",
   "metadata": {},
   "outputs": [
    {
     "data": {
      "text/plain": [
       "Home_Navigation\n",
       "No     4014\n",
       "Yes    3986\n",
       "Name: count, dtype: int64"
      ]
     },
     "execution_count": 13,
     "metadata": {},
     "output_type": "execute_result"
    }
   ],
   "source": [
    "df['Home_Navigation'].value_counts()"
   ]
  },
  {
   "cell_type": "code",
   "execution_count": 14,
   "id": "2f84d5b5",
   "metadata": {},
   "outputs": [
    {
     "data": {
      "text/plain": [
       "Financial_Matters\n",
       "Yes    4042\n",
       "No     3958\n",
       "Name: count, dtype: int64"
      ]
     },
     "execution_count": 14,
     "metadata": {},
     "output_type": "execute_result"
    }
   ],
   "source": [
    "df['Financial_Matters'].value_counts()"
   ]
  },
  {
   "cell_type": "code",
   "execution_count": 15,
   "id": "2c431718",
   "metadata": {},
   "outputs": [
    {
     "data": {
      "text/plain": [
       "Independence_Decrease\n",
       "Yes    4027\n",
       "No     3973\n",
       "Name: count, dtype: int64"
      ]
     },
     "execution_count": 15,
     "metadata": {},
     "output_type": "execute_result"
    }
   ],
   "source": [
    "df['Independence_Decrease'].value_counts()"
   ]
  },
  {
   "cell_type": "code",
   "execution_count": 16,
   "id": "fe1e2840",
   "metadata": {},
   "outputs": [
    {
     "data": {
      "text/plain": [
       "Solution_Finding\n",
       "No     4095\n",
       "Yes    3905\n",
       "Name: count, dtype: int64"
      ]
     },
     "execution_count": 16,
     "metadata": {},
     "output_type": "execute_result"
    }
   ],
   "source": [
    "df['Solution_Finding'].value_counts()"
   ]
  },
  {
   "cell_type": "code",
   "execution_count": 17,
   "id": "f6f224d4",
   "metadata": {},
   "outputs": [
    {
     "data": {
      "text/plain": [
       "Cognitive_Health\n",
       "Yes    4042\n",
       "No     3958\n",
       "Name: count, dtype: int64"
      ]
     },
     "execution_count": 17,
     "metadata": {},
     "output_type": "execute_result"
    }
   ],
   "source": [
    "df['Cognitive_Health'].value_counts()"
   ]
  },
  {
   "cell_type": "code",
   "execution_count": 18,
   "id": "2819c72c",
   "metadata": {},
   "outputs": [
    {
     "data": {
      "text/plain": [
       "Adaptability\n",
       "Yes    4004\n",
       "No     3996\n",
       "Name: count, dtype: int64"
      ]
     },
     "execution_count": 18,
     "metadata": {},
     "output_type": "execute_result"
    }
   ],
   "source": [
    "df['Adaptability'].value_counts()"
   ]
  },
  {
   "cell_type": "code",
   "execution_count": 19,
   "id": "837dfe13",
   "metadata": {},
   "outputs": [
    {
     "name": "stdout",
     "output_type": "stream",
     "text": [
      "<class 'pandas.core.frame.DataFrame'>\n",
      "RangeIndex: 8000 entries, 0 to 7999\n",
      "Data columns (total 16 columns):\n",
      " #   Column                 Non-Null Count  Dtype \n",
      "---  ------                 --------------  ----- \n",
      " 0   Name                   8000 non-null   object\n",
      " 1   Date_Forget            8000 non-null   object\n",
      " 2   Face_Recall            8000 non-null   object\n",
      " 3   Task_Planning          8000 non-null   object\n",
      " 4   Word_Expression        8000 non-null   object\n",
      " 5   Mood_Shift             8000 non-null   object\n",
      " 6   Adaptability           8000 non-null   object\n",
      " 7   Solution_Finding       8000 non-null   object\n",
      " 8   Sleep_Patterns         8000 non-null   object\n",
      " 9   Appetite_Changes       8000 non-null   object\n",
      " 10  Interest_Enthusiasm    8000 non-null   object\n",
      " 11  Financial_Matters      8000 non-null   object\n",
      " 12  Tech_Adaptation        8000 non-null   object\n",
      " 13  Independence_Decrease  8000 non-null   object\n",
      " 14  Home_Navigation        8000 non-null   object\n",
      " 15  Cognitive_Health       8000 non-null   object\n",
      "dtypes: object(16)\n",
      "memory usage: 1000.1+ KB\n"
     ]
    }
   ],
   "source": [
    "df.info()"
   ]
  },
  {
   "cell_type": "code",
   "execution_count": 20,
   "id": "8e49d4d0",
   "metadata": {},
   "outputs": [
    {
     "name": "stdout",
     "output_type": "stream",
     "text": [
      "<class 'pandas.core.frame.DataFrame'>\n",
      "RangeIndex: 8000 entries, 0 to 7999\n",
      "Data columns (total 16 columns):\n",
      " #   Column                 Non-Null Count  Dtype \n",
      "---  ------                 --------------  ----- \n",
      " 0   Name                   8000 non-null   object\n",
      " 1   Date_Forget            8000 non-null   object\n",
      " 2   Face_Recall            8000 non-null   object\n",
      " 3   Task_Planning          8000 non-null   object\n",
      " 4   Word_Expression        8000 non-null   object\n",
      " 5   Mood_Shift             8000 non-null   object\n",
      " 6   Adaptability           8000 non-null   object\n",
      " 7   Solution_Finding       8000 non-null   object\n",
      " 8   Sleep_Patterns         8000 non-null   object\n",
      " 9   Appetite_Changes       8000 non-null   object\n",
      " 10  Interest_Enthusiasm    8000 non-null   object\n",
      " 11  Financial_Matters      8000 non-null   object\n",
      " 12  Tech_Adaptation        8000 non-null   object\n",
      " 13  Independence_Decrease  8000 non-null   object\n",
      " 14  Home_Navigation        8000 non-null   object\n",
      " 15  Cognitive_Health       8000 non-null   object\n",
      "dtypes: object(16)\n",
      "memory usage: 1000.1+ KB\n"
     ]
    }
   ],
   "source": [
    "df.info()"
   ]
  },
  {
   "cell_type": "code",
   "execution_count": 21,
   "id": "185447ec",
   "metadata": {},
   "outputs": [
    {
     "data": {
      "text/html": [
       "<div>\n",
       "<style scoped>\n",
       "    .dataframe tbody tr th:only-of-type {\n",
       "        vertical-align: middle;\n",
       "    }\n",
       "\n",
       "    .dataframe tbody tr th {\n",
       "        vertical-align: top;\n",
       "    }\n",
       "\n",
       "    .dataframe thead th {\n",
       "        text-align: right;\n",
       "    }\n",
       "</style>\n",
       "<table border=\"1\" class=\"dataframe\">\n",
       "  <thead>\n",
       "    <tr style=\"text-align: right;\">\n",
       "      <th></th>\n",
       "      <th>Name</th>\n",
       "      <th>Date_Forget</th>\n",
       "      <th>Face_Recall</th>\n",
       "      <th>Task_Planning</th>\n",
       "      <th>Word_Expression</th>\n",
       "      <th>Mood_Shift</th>\n",
       "      <th>Adaptability</th>\n",
       "      <th>Solution_Finding</th>\n",
       "      <th>Sleep_Patterns</th>\n",
       "      <th>Appetite_Changes</th>\n",
       "      <th>Interest_Enthusiasm</th>\n",
       "      <th>Financial_Matters</th>\n",
       "      <th>Tech_Adaptation</th>\n",
       "      <th>Independence_Decrease</th>\n",
       "      <th>Home_Navigation</th>\n",
       "      <th>Cognitive_Health</th>\n",
       "    </tr>\n",
       "  </thead>\n",
       "  <tbody>\n",
       "    <tr>\n",
       "      <th>count</th>\n",
       "      <td>8000</td>\n",
       "      <td>8000</td>\n",
       "      <td>8000</td>\n",
       "      <td>8000</td>\n",
       "      <td>8000</td>\n",
       "      <td>8000</td>\n",
       "      <td>8000</td>\n",
       "      <td>8000</td>\n",
       "      <td>8000</td>\n",
       "      <td>8000</td>\n",
       "      <td>8000</td>\n",
       "      <td>8000</td>\n",
       "      <td>8000</td>\n",
       "      <td>8000</td>\n",
       "      <td>8000</td>\n",
       "      <td>8000</td>\n",
       "    </tr>\n",
       "    <tr>\n",
       "      <th>unique</th>\n",
       "      <td>7627</td>\n",
       "      <td>3</td>\n",
       "      <td>2</td>\n",
       "      <td>2</td>\n",
       "      <td>2</td>\n",
       "      <td>2</td>\n",
       "      <td>2</td>\n",
       "      <td>2</td>\n",
       "      <td>2</td>\n",
       "      <td>2</td>\n",
       "      <td>2</td>\n",
       "      <td>2</td>\n",
       "      <td>2</td>\n",
       "      <td>2</td>\n",
       "      <td>2</td>\n",
       "      <td>2</td>\n",
       "    </tr>\n",
       "    <tr>\n",
       "      <th>top</th>\n",
       "      <td>David Johnson</td>\n",
       "      <td>Rarely</td>\n",
       "      <td>No</td>\n",
       "      <td>No</td>\n",
       "      <td>Yes</td>\n",
       "      <td>Yes</td>\n",
       "      <td>Yes</td>\n",
       "      <td>No</td>\n",
       "      <td>Disrupted</td>\n",
       "      <td>No</td>\n",
       "      <td>Yes</td>\n",
       "      <td>Yes</td>\n",
       "      <td>Yes</td>\n",
       "      <td>Yes</td>\n",
       "      <td>No</td>\n",
       "      <td>Yes</td>\n",
       "    </tr>\n",
       "    <tr>\n",
       "      <th>freq</th>\n",
       "      <td>5</td>\n",
       "      <td>2708</td>\n",
       "      <td>4046</td>\n",
       "      <td>4054</td>\n",
       "      <td>4001</td>\n",
       "      <td>4107</td>\n",
       "      <td>4004</td>\n",
       "      <td>4095</td>\n",
       "      <td>4042</td>\n",
       "      <td>4052</td>\n",
       "      <td>4042</td>\n",
       "      <td>4042</td>\n",
       "      <td>4029</td>\n",
       "      <td>4027</td>\n",
       "      <td>4014</td>\n",
       "      <td>4042</td>\n",
       "    </tr>\n",
       "  </tbody>\n",
       "</table>\n",
       "</div>"
      ],
      "text/plain": [
       "                 Name Date_Forget Face_Recall Task_Planning Word_Expression  \\\n",
       "count            8000        8000        8000          8000            8000   \n",
       "unique           7627           3           2             2               2   \n",
       "top     David Johnson      Rarely          No            No             Yes   \n",
       "freq                5        2708        4046          4054            4001   \n",
       "\n",
       "       Mood_Shift Adaptability Solution_Finding Sleep_Patterns  \\\n",
       "count        8000         8000             8000           8000   \n",
       "unique          2            2                2              2   \n",
       "top           Yes          Yes               No      Disrupted   \n",
       "freq         4107         4004             4095           4042   \n",
       "\n",
       "       Appetite_Changes Interest_Enthusiasm Financial_Matters Tech_Adaptation  \\\n",
       "count              8000                8000              8000            8000   \n",
       "unique                2                   2                 2               2   \n",
       "top                  No                 Yes               Yes             Yes   \n",
       "freq               4052                4042              4042            4029   \n",
       "\n",
       "       Independence_Decrease Home_Navigation Cognitive_Health  \n",
       "count                   8000            8000             8000  \n",
       "unique                     2               2                2  \n",
       "top                      Yes              No              Yes  \n",
       "freq                    4027            4014             4042  "
      ]
     },
     "execution_count": 21,
     "metadata": {},
     "output_type": "execute_result"
    }
   ],
   "source": [
    "df.describe()"
   ]
  },
  {
   "cell_type": "code",
   "execution_count": 22,
   "id": "99bdd2c9",
   "metadata": {},
   "outputs": [
    {
     "data": {
      "text/html": [
       "<div>\n",
       "<style scoped>\n",
       "    .dataframe tbody tr th:only-of-type {\n",
       "        vertical-align: middle;\n",
       "    }\n",
       "\n",
       "    .dataframe tbody tr th {\n",
       "        vertical-align: top;\n",
       "    }\n",
       "\n",
       "    .dataframe thead th {\n",
       "        text-align: right;\n",
       "    }\n",
       "</style>\n",
       "<table border=\"1\" class=\"dataframe\">\n",
       "  <thead>\n",
       "    <tr style=\"text-align: right;\">\n",
       "      <th></th>\n",
       "      <th>Name</th>\n",
       "      <th>Date_Forget</th>\n",
       "      <th>Face_Recall</th>\n",
       "      <th>Task_Planning</th>\n",
       "      <th>Word_Expression</th>\n",
       "      <th>Mood_Shift</th>\n",
       "      <th>Adaptability</th>\n",
       "      <th>Solution_Finding</th>\n",
       "      <th>Sleep_Patterns</th>\n",
       "      <th>Appetite_Changes</th>\n",
       "      <th>Interest_Enthusiasm</th>\n",
       "      <th>Financial_Matters</th>\n",
       "      <th>Tech_Adaptation</th>\n",
       "      <th>Independence_Decrease</th>\n",
       "      <th>Home_Navigation</th>\n",
       "      <th>Cognitive_Health</th>\n",
       "    </tr>\n",
       "  </thead>\n",
       "  <tbody>\n",
       "    <tr>\n",
       "      <th>0</th>\n",
       "      <td>Brandon Andrews</td>\n",
       "      <td>Frequently</td>\n",
       "      <td>Yes</td>\n",
       "      <td>Yes</td>\n",
       "      <td>No</td>\n",
       "      <td>Yes</td>\n",
       "      <td>Yes</td>\n",
       "      <td>No</td>\n",
       "      <td>Normal</td>\n",
       "      <td>No</td>\n",
       "      <td>No</td>\n",
       "      <td>No</td>\n",
       "      <td>Yes</td>\n",
       "      <td>No</td>\n",
       "      <td>No</td>\n",
       "      <td>No</td>\n",
       "    </tr>\n",
       "    <tr>\n",
       "      <th>1</th>\n",
       "      <td>Walter Ruiz</td>\n",
       "      <td>Rarely</td>\n",
       "      <td>No</td>\n",
       "      <td>No</td>\n",
       "      <td>Yes</td>\n",
       "      <td>No</td>\n",
       "      <td>Yes</td>\n",
       "      <td>No</td>\n",
       "      <td>Disrupted</td>\n",
       "      <td>No</td>\n",
       "      <td>Yes</td>\n",
       "      <td>Yes</td>\n",
       "      <td>No</td>\n",
       "      <td>No</td>\n",
       "      <td>No</td>\n",
       "      <td>Yes</td>\n",
       "    </tr>\n",
       "    <tr>\n",
       "      <th>2</th>\n",
       "      <td>Robert Heath MD</td>\n",
       "      <td>Frequently</td>\n",
       "      <td>No</td>\n",
       "      <td>No</td>\n",
       "      <td>Yes</td>\n",
       "      <td>Yes</td>\n",
       "      <td>Yes</td>\n",
       "      <td>Yes</td>\n",
       "      <td>Disrupted</td>\n",
       "      <td>No</td>\n",
       "      <td>Yes</td>\n",
       "      <td>Yes</td>\n",
       "      <td>No</td>\n",
       "      <td>No</td>\n",
       "      <td>No</td>\n",
       "      <td>Yes</td>\n",
       "    </tr>\n",
       "    <tr>\n",
       "      <th>3</th>\n",
       "      <td>Christopher Singh</td>\n",
       "      <td>Frequently</td>\n",
       "      <td>Yes</td>\n",
       "      <td>Yes</td>\n",
       "      <td>Yes</td>\n",
       "      <td>Yes</td>\n",
       "      <td>Yes</td>\n",
       "      <td>No</td>\n",
       "      <td>Disrupted</td>\n",
       "      <td>No</td>\n",
       "      <td>Yes</td>\n",
       "      <td>Yes</td>\n",
       "      <td>No</td>\n",
       "      <td>No</td>\n",
       "      <td>Yes</td>\n",
       "      <td>Yes</td>\n",
       "    </tr>\n",
       "    <tr>\n",
       "      <th>4</th>\n",
       "      <td>Brett Zhang</td>\n",
       "      <td>Rarely</td>\n",
       "      <td>No</td>\n",
       "      <td>Yes</td>\n",
       "      <td>Yes</td>\n",
       "      <td>No</td>\n",
       "      <td>No</td>\n",
       "      <td>Yes</td>\n",
       "      <td>Disrupted</td>\n",
       "      <td>Yes</td>\n",
       "      <td>Yes</td>\n",
       "      <td>Yes</td>\n",
       "      <td>No</td>\n",
       "      <td>Yes</td>\n",
       "      <td>Yes</td>\n",
       "      <td>Yes</td>\n",
       "    </tr>\n",
       "  </tbody>\n",
       "</table>\n",
       "</div>"
      ],
      "text/plain": [
       "                Name Date_Forget Face_Recall Task_Planning Word_Expression  \\\n",
       "0    Brandon Andrews  Frequently         Yes           Yes              No   \n",
       "1        Walter Ruiz      Rarely          No            No             Yes   \n",
       "2    Robert Heath MD  Frequently          No            No             Yes   \n",
       "3  Christopher Singh  Frequently         Yes           Yes             Yes   \n",
       "4        Brett Zhang      Rarely          No           Yes             Yes   \n",
       "\n",
       "  Mood_Shift Adaptability Solution_Finding Sleep_Patterns Appetite_Changes  \\\n",
       "0        Yes          Yes               No         Normal               No   \n",
       "1         No          Yes               No      Disrupted               No   \n",
       "2        Yes          Yes              Yes      Disrupted               No   \n",
       "3        Yes          Yes               No      Disrupted               No   \n",
       "4         No           No              Yes      Disrupted              Yes   \n",
       "\n",
       "  Interest_Enthusiasm Financial_Matters Tech_Adaptation Independence_Decrease  \\\n",
       "0                  No                No             Yes                    No   \n",
       "1                 Yes               Yes              No                    No   \n",
       "2                 Yes               Yes              No                    No   \n",
       "3                 Yes               Yes              No                    No   \n",
       "4                 Yes               Yes              No                   Yes   \n",
       "\n",
       "  Home_Navigation Cognitive_Health  \n",
       "0              No               No  \n",
       "1              No              Yes  \n",
       "2              No              Yes  \n",
       "3             Yes              Yes  \n",
       "4             Yes              Yes  "
      ]
     },
     "execution_count": 22,
     "metadata": {},
     "output_type": "execute_result"
    }
   ],
   "source": [
    "df.head()"
   ]
  },
  {
   "cell_type": "code",
   "execution_count": 23,
   "id": "8b601d1f",
   "metadata": {},
   "outputs": [
    {
     "data": {
      "text/plain": [
       "Index(['Name', 'Date_Forget', 'Face_Recall', 'Task_Planning',\n",
       "       'Word_Expression', 'Mood_Shift', 'Adaptability', 'Solution_Finding',\n",
       "       'Sleep_Patterns', 'Appetite_Changes', 'Interest_Enthusiasm',\n",
       "       'Financial_Matters', 'Tech_Adaptation', 'Independence_Decrease',\n",
       "       'Home_Navigation', 'Cognitive_Health'],\n",
       "      dtype='object')"
      ]
     },
     "execution_count": 23,
     "metadata": {},
     "output_type": "execute_result"
    }
   ],
   "source": [
    "df.columns"
   ]
  },
  {
   "cell_type": "code",
   "execution_count": 24,
   "id": "c4b16fb2",
   "metadata": {},
   "outputs": [],
   "source": [
    "column=df[['Date_Forget', 'Face_Recall', 'Task_Planning',\n",
    "       'Word_Expression', 'Mood_Shift', 'Adaptability', 'Solution_Finding',\n",
    "       'Sleep_Patterns', 'Appetite_Changes', 'Interest_Enthusiasm',\n",
    "       'Financial_Matters', 'Tech_Adaptation', 'Independence_Decrease',\n",
    "       'Home_Navigation']]\n"
   ]
  },
  {
   "cell_type": "code",
   "execution_count": 25,
   "id": "9aa395e6",
   "metadata": {},
   "outputs": [],
   "source": [
    "columns_to_encode = column\n",
    "label_encoder = LabelEncoder()\n",
    "for column in columns_to_encode:\n",
    "    df[column] = label_encoder.fit_transform(df[column])"
   ]
  },
  {
   "cell_type": "code",
   "execution_count": 26,
   "id": "119e5b00",
   "metadata": {},
   "outputs": [
    {
     "data": {
      "text/html": [
       "<div>\n",
       "<style scoped>\n",
       "    .dataframe tbody tr th:only-of-type {\n",
       "        vertical-align: middle;\n",
       "    }\n",
       "\n",
       "    .dataframe tbody tr th {\n",
       "        vertical-align: top;\n",
       "    }\n",
       "\n",
       "    .dataframe thead th {\n",
       "        text-align: right;\n",
       "    }\n",
       "</style>\n",
       "<table border=\"1\" class=\"dataframe\">\n",
       "  <thead>\n",
       "    <tr style=\"text-align: right;\">\n",
       "      <th></th>\n",
       "      <th>Name</th>\n",
       "      <th>Date_Forget</th>\n",
       "      <th>Face_Recall</th>\n",
       "      <th>Task_Planning</th>\n",
       "      <th>Word_Expression</th>\n",
       "      <th>Mood_Shift</th>\n",
       "      <th>Adaptability</th>\n",
       "      <th>Solution_Finding</th>\n",
       "      <th>Sleep_Patterns</th>\n",
       "      <th>Appetite_Changes</th>\n",
       "      <th>Interest_Enthusiasm</th>\n",
       "      <th>Financial_Matters</th>\n",
       "      <th>Tech_Adaptation</th>\n",
       "      <th>Independence_Decrease</th>\n",
       "      <th>Home_Navigation</th>\n",
       "      <th>Cognitive_Health</th>\n",
       "    </tr>\n",
       "  </thead>\n",
       "  <tbody>\n",
       "    <tr>\n",
       "      <th>0</th>\n",
       "      <td>Brandon Andrews</td>\n",
       "      <td>0</td>\n",
       "      <td>1</td>\n",
       "      <td>1</td>\n",
       "      <td>0</td>\n",
       "      <td>1</td>\n",
       "      <td>1</td>\n",
       "      <td>0</td>\n",
       "      <td>1</td>\n",
       "      <td>0</td>\n",
       "      <td>0</td>\n",
       "      <td>0</td>\n",
       "      <td>1</td>\n",
       "      <td>0</td>\n",
       "      <td>0</td>\n",
       "      <td>No</td>\n",
       "    </tr>\n",
       "    <tr>\n",
       "      <th>1</th>\n",
       "      <td>Walter Ruiz</td>\n",
       "      <td>2</td>\n",
       "      <td>0</td>\n",
       "      <td>0</td>\n",
       "      <td>1</td>\n",
       "      <td>0</td>\n",
       "      <td>1</td>\n",
       "      <td>0</td>\n",
       "      <td>0</td>\n",
       "      <td>0</td>\n",
       "      <td>1</td>\n",
       "      <td>1</td>\n",
       "      <td>0</td>\n",
       "      <td>0</td>\n",
       "      <td>0</td>\n",
       "      <td>Yes</td>\n",
       "    </tr>\n",
       "    <tr>\n",
       "      <th>2</th>\n",
       "      <td>Robert Heath MD</td>\n",
       "      <td>0</td>\n",
       "      <td>0</td>\n",
       "      <td>0</td>\n",
       "      <td>1</td>\n",
       "      <td>1</td>\n",
       "      <td>1</td>\n",
       "      <td>1</td>\n",
       "      <td>0</td>\n",
       "      <td>0</td>\n",
       "      <td>1</td>\n",
       "      <td>1</td>\n",
       "      <td>0</td>\n",
       "      <td>0</td>\n",
       "      <td>0</td>\n",
       "      <td>Yes</td>\n",
       "    </tr>\n",
       "    <tr>\n",
       "      <th>3</th>\n",
       "      <td>Christopher Singh</td>\n",
       "      <td>0</td>\n",
       "      <td>1</td>\n",
       "      <td>1</td>\n",
       "      <td>1</td>\n",
       "      <td>1</td>\n",
       "      <td>1</td>\n",
       "      <td>0</td>\n",
       "      <td>0</td>\n",
       "      <td>0</td>\n",
       "      <td>1</td>\n",
       "      <td>1</td>\n",
       "      <td>0</td>\n",
       "      <td>0</td>\n",
       "      <td>1</td>\n",
       "      <td>Yes</td>\n",
       "    </tr>\n",
       "    <tr>\n",
       "      <th>4</th>\n",
       "      <td>Brett Zhang</td>\n",
       "      <td>2</td>\n",
       "      <td>0</td>\n",
       "      <td>1</td>\n",
       "      <td>1</td>\n",
       "      <td>0</td>\n",
       "      <td>0</td>\n",
       "      <td>1</td>\n",
       "      <td>0</td>\n",
       "      <td>1</td>\n",
       "      <td>1</td>\n",
       "      <td>1</td>\n",
       "      <td>0</td>\n",
       "      <td>1</td>\n",
       "      <td>1</td>\n",
       "      <td>Yes</td>\n",
       "    </tr>\n",
       "  </tbody>\n",
       "</table>\n",
       "</div>"
      ],
      "text/plain": [
       "                Name  Date_Forget  Face_Recall  Task_Planning  \\\n",
       "0    Brandon Andrews            0            1              1   \n",
       "1        Walter Ruiz            2            0              0   \n",
       "2    Robert Heath MD            0            0              0   \n",
       "3  Christopher Singh            0            1              1   \n",
       "4        Brett Zhang            2            0              1   \n",
       "\n",
       "   Word_Expression  Mood_Shift  Adaptability  Solution_Finding  \\\n",
       "0                0           1             1                 0   \n",
       "1                1           0             1                 0   \n",
       "2                1           1             1                 1   \n",
       "3                1           1             1                 0   \n",
       "4                1           0             0                 1   \n",
       "\n",
       "   Sleep_Patterns  Appetite_Changes  Interest_Enthusiasm  Financial_Matters  \\\n",
       "0               1                 0                    0                  0   \n",
       "1               0                 0                    1                  1   \n",
       "2               0                 0                    1                  1   \n",
       "3               0                 0                    1                  1   \n",
       "4               0                 1                    1                  1   \n",
       "\n",
       "   Tech_Adaptation  Independence_Decrease  Home_Navigation Cognitive_Health  \n",
       "0                1                      0                0               No  \n",
       "1                0                      0                0              Yes  \n",
       "2                0                      0                0              Yes  \n",
       "3                0                      0                1              Yes  \n",
       "4                0                      1                1              Yes  "
      ]
     },
     "execution_count": 26,
     "metadata": {},
     "output_type": "execute_result"
    }
   ],
   "source": [
    "df.head()"
   ]
  },
  {
   "cell_type": "code",
   "execution_count": 27,
   "id": "3472a0e2",
   "metadata": {},
   "outputs": [],
   "source": [
    "X = df[['Date_Forget', 'Face_Recall', 'Task_Planning',\n",
    "       'Word_Expression', 'Mood_Shift', 'Adaptability', 'Solution_Finding',\n",
    "       'Sleep_Patterns', 'Appetite_Changes', 'Interest_Enthusiasm',\n",
    "       'Financial_Matters', 'Tech_Adaptation', 'Independence_Decrease',\n",
    "       'Home_Navigation']]\n",
    "y = df['Cognitive_Health']\n"
   ]
  },
  {
   "cell_type": "code",
   "execution_count": 28,
   "id": "457bdf28",
   "metadata": {},
   "outputs": [],
   "source": [
    "X_train, X_test, y_train, y_test = train_test_split(X, y, test_size=0.2, random_state=42)\n",
    "scaler = StandardScaler()\n",
    "X_train_scaled = scaler.fit_transform(X_train)\n",
    "X_test_scaled = scaler.transform(X_test)"
   ]
  },
  {
   "cell_type": "markdown",
   "id": "aec6c3e6",
   "metadata": {},
   "source": [
    "\n",
    "CPU times: total: 1min 57s\n",
    "Wall time: 3min 56s\n"
   ]
  },
  {
   "cell_type": "code",
   "execution_count": 29,
   "id": "f332fdc1",
   "metadata": {},
   "outputs": [
    {
     "name": "stdout",
     "output_type": "stream",
     "text": [
      "Accuracy: 1.00\n",
      "Classification Report:\n",
      "              precision    recall  f1-score   support\n",
      "\n",
      "          No       1.00      1.00      1.00       778\n",
      "         Yes       1.00      1.00      1.00       822\n",
      "\n",
      "    accuracy                           1.00      1600\n",
      "   macro avg       1.00      1.00      1.00      1600\n",
      "weighted avg       1.00      1.00      1.00      1600\n",
      "\n",
      "Confusion Matrix:\n",
      "[[778   0]\n",
      " [  0 822]]\n"
     ]
    }
   ],
   "source": [
    "knn_classifier = KNeighborsClassifier(n_neighbors=10)  # Set the value of k\n",
    "\n",
    "# Train the classifier on the training data\n",
    "knn_classifier.fit(X_train, y_train)\n",
    "\n",
    "# Make predictions on the test data\n",
    "y_pred = knn_classifier.predict(X_test)\n",
    "\n",
    "# Evaluate the accuracy of the model\n",
    "accuracy = accuracy_score(y_test, y_pred)\n",
    "print(f\"Accuracy: {accuracy:.2f}\")\n",
    "print('Classification Report:')\n",
    "print(classification_report(y_test, y_pred))\n",
    "\n",
    "conf_matrix = confusion_matrix(y_test, y_pred)\n",
    "print('Confusion Matrix:')\n",
    "print(conf_matrix)"
   ]
  },
  {
   "cell_type": "code",
   "execution_count": 30,
   "id": "10652af3",
   "metadata": {},
   "outputs": [
    {
     "name": "stdout",
     "output_type": "stream",
     "text": [
      "Accuracy: 1.0\n"
     ]
    }
   ],
   "source": [
    "classifier = RandomForestClassifier(n_estimators=4, random_state=42)\n",
    "classifier.fit(X_train, y_train)\n",
    "y_pred_c = classifier.predict(X_test)\n",
    "accuracy_c = accuracy_score(y_test, y_pred_c)\n",
    "print(f'Accuracy: {accuracy_c}')\n"
   ]
  },
  {
   "cell_type": "code",
   "execution_count": 31,
   "id": "3bb7edb1",
   "metadata": {},
   "outputs": [
    {
     "name": "stdout",
     "output_type": "stream",
     "text": [
      "Accuracy: 1.0\n",
      "Classification Report:\n",
      "              precision    recall  f1-score   support\n",
      "\n",
      "          No       1.00      1.00      1.00       778\n",
      "         Yes       1.00      1.00      1.00       822\n",
      "\n",
      "    accuracy                           1.00      1600\n",
      "   macro avg       1.00      1.00      1.00      1600\n",
      "weighted avg       1.00      1.00      1.00      1600\n",
      "\n",
      "Confusion Matrix:\n",
      "[[778   0]\n",
      " [  0 822]]\n"
     ]
    }
   ],
   "source": [
    "accuracy_r = accuracy_score(y_test, y_pred)\n",
    "print(f'Accuracy: {accuracy_r}')\n",
    "\n",
    "print('Classification Report:')\n",
    "print(classification_report(y_test, y_pred))\n",
    "\n",
    "conf_matrix = confusion_matrix(y_test, y_pred)\n",
    "print('Confusion Matrix:')\n",
    "print(conf_matrix)"
   ]
  },
  {
   "cell_type": "code",
   "execution_count": 32,
   "id": "4bc7efd1",
   "metadata": {},
   "outputs": [
    {
     "name": "stdout",
     "output_type": "stream",
     "text": [
      "RANDOMFORESTCLASSIFIER \n",
      "1.0\n",
      "knn_classifier\n",
      "1.0\n"
     ]
    }
   ],
   "source": [
    "print(\"RANDOMFORESTCLASSIFIER \")\n",
    "print(accuracy_c)\n",
    "print(\"knn_classifier\")\n",
    "print(accuracy)"
   ]
  },
  {
   "cell_type": "code",
   "execution_count": 33,
   "id": "c8b0d068",
   "metadata": {},
   "outputs": [
    {
     "name": "stdout",
     "output_type": "stream",
     "text": [
      "Accuracy: 100.00%\n"
     ]
    }
   ],
   "source": [
    "# Import necessary libraries\n",
    "from sklearn import datasets\n",
    "from sklearn.model_selection import train_test_split\n",
    "from sklearn.svm import SVC\n",
    "from sklearn.metrics import accuracy_score\n",
    "\n",
    "# Initialize the SVM model\n",
    "svm_model = SVC(kernel='linear', C=1.0)\n",
    "\n",
    "# Train the SVM model on the training data\n",
    "svm_model.fit(X_train, y_train)\n",
    "\n",
    "# Make predictions on the test data\n",
    "y_pred_s = svm_model.predict(X_test)\n",
    "\n",
    "# Evaluate the model's accuracy\n",
    "accuracy = accuracy_score(y_test, y_pred_s)\n",
    "print(f\"Accuracy: {accuracy * 100:.2f}%\")\n"
   ]
  },
  {
   "cell_type": "code",
   "execution_count": null,
   "id": "ab4bb9af",
   "metadata": {},
   "outputs": [],
   "source": []
  },
  {
   "cell_type": "code",
   "execution_count": null,
   "id": "5b797137",
   "metadata": {},
   "outputs": [],
   "source": []
  },
  {
   "cell_type": "code",
   "execution_count": null,
   "id": "538c60d0",
   "metadata": {},
   "outputs": [],
   "source": []
  },
  {
   "cell_type": "code",
   "execution_count": 34,
   "id": "444e9132",
   "metadata": {
    "scrolled": false
   },
   "outputs": [
    {
     "name": "stdout",
     "output_type": "stream",
     "text": [
      "Enter value for Date_Forget: 0\n",
      "Enter value for Face_Recall: 1\n",
      "Enter value for Task_Planning: 1\n",
      "Enter value for Word_Expression: 0\n",
      "Enter value for Mood_Shift: 1\n",
      "Enter value for Adaptability: 0\n",
      "Enter value for Solution_Finding: 1\n",
      "Enter value for Sleep_Patterns: 0\n",
      "Enter value for Appetite_Changes: 0\n",
      "Enter value for Interest_Enthusiasm: 0\n",
      "Enter value for Financial_Matters: 1\n",
      "Enter value for Tech_Adaptation: 1\n",
      "Enter value for Independence_Decrease: 0\n",
      "Enter value for Home_Navigation: 1\n"
     ]
    },
    {
     "data": {
      "text/plain": [
       "{'Date_Forget': 0,\n",
       " 'Face_Recall': 1,\n",
       " 'Task_Planning': 1,\n",
       " 'Word_Expression': 0,\n",
       " 'Mood_Shift': 1,\n",
       " 'Adaptability': 0,\n",
       " 'Solution_Finding': 1,\n",
       " 'Sleep_Patterns': 0,\n",
       " 'Appetite_Changes': 0,\n",
       " 'Interest_Enthusiasm': 0,\n",
       " 'Financial_Matters': 1,\n",
       " 'Tech_Adaptation': 1,\n",
       " 'Independence_Decrease': 0,\n",
       " 'Home_Navigation': 1}"
      ]
     },
     "execution_count": 34,
     "metadata": {},
     "output_type": "execute_result"
    }
   ],
   "source": [
    "columns = ['Date_Forget', 'Face_Recall', 'Task_Planning',\n",
    "       'Word_Expression', 'Mood_Shift', 'Adaptability', 'Solution_Finding',\n",
    "       'Sleep_Patterns', 'Appetite_Changes', 'Interest_Enthusiasm',\n",
    "       'Financial_Matters', 'Tech_Adaptation', 'Independence_Decrease',\n",
    "       'Home_Navigation']\n",
    "\n",
    "input_values = {}\n",
    "for column in columns:\n",
    "    value = input(f\"Enter value for {column}: \")\n",
    "    input_values[column] = int(value)  # Assuming the values are numeric, adjust data type if needed\n",
    "input_values\n"
   ]
  },
  {
   "cell_type": "code",
   "execution_count": 38,
   "id": "b4c077ce",
   "metadata": {},
   "outputs": [
    {
     "name": "stdout",
     "output_type": "stream",
     "text": [
      "Predicted Output: Yes\n"
     ]
    }
   ],
   "source": [
    "prediction = svm_model.predict([list(input_values.values())])\n",
    "print(\"Predicted Output:\", prediction[0])\n"
   ]
  },
  {
   "cell_type": "code",
   "execution_count": 39,
   "id": "c9585764",
   "metadata": {},
   "outputs": [],
   "source": [
    "# 0\t1\t1\t0\t1\t1\t0\t1\t0\t0\t0\t1\t0\t0\tNo\n",
    "# 2\t0\t0\t1\t0\t1\t0\t0\t0\t1\t1\t0\t0\t0\tYes"
   ]
  },
  {
   "cell_type": "code",
   "execution_count": null,
   "id": "3482c58f",
   "metadata": {},
   "outputs": [],
   "source": []
  },
  {
   "cell_type": "code",
   "execution_count": 40,
   "id": "c8d497e4",
   "metadata": {},
   "outputs": [
    {
     "data": {
      "text/plain": [
       "['behavioral_model.pkl']"
      ]
     },
     "execution_count": 40,
     "metadata": {},
     "output_type": "execute_result"
    }
   ],
   "source": [
    "import joblib\n",
    "\n",
    "# Assuming 'knn' is your trained KNN model\n",
    "# Save the model to a pickle file\n",
    "joblib.dump(svm_model, 'behavioral_model.pkl')\n"
   ]
  },
  {
   "cell_type": "code",
   "execution_count": null,
   "id": "c356e3f7",
   "metadata": {},
   "outputs": [],
   "source": []
  }
 ],
 "metadata": {
  "kernelspec": {
   "display_name": "Python 3 (ipykernel)",
   "language": "python",
   "name": "python3"
  },
  "language_info": {
   "codemirror_mode": {
    "name": "ipython",
    "version": 3
   },
   "file_extension": ".py",
   "mimetype": "text/x-python",
   "name": "python",
   "nbconvert_exporter": "python",
   "pygments_lexer": "ipython3",
   "version": "3.11.5"
  }
 },
 "nbformat": 4,
 "nbformat_minor": 5
}
