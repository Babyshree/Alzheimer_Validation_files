{
 "cells": [
  {
   "cell_type": "code",
   "execution_count": 3,
   "id": "704c7109",
   "metadata": {},
   "outputs": [
    {
     "name": "stdout",
     "output_type": "stream",
     "text": [
      "1/1 [==============================] - 1s 699ms/step\n",
      "1: ModerateDemented (0.54)\n",
      "2: MildDemented (0.41)\n",
      "3: NonDemented (0.06)\n",
      "4: VeryMildDemented (0.00)\n"
     ]
    }
   ],
   "source": [
    "from tensorflow import keras\n",
    "from tensorflow.keras.preprocessing import image\n",
    "from tensorflow.keras.applications.inception_v3 import preprocess_input, decode_predictions\n",
    "import numpy as np\n",
    "\n",
    "from tensorflow_addons.metrics import F1Score\n",
    "\n",
    "CLASSES = ['NonDemented', 'VeryMildDemented', 'MildDemented', 'ModerateDemented']\n",
    "\n",
    "# Load your custom Inception model\"C:\\Users\\jbaby\\documents\\Final_yr_pro\\Fixed\\Alzi_MRI_model\"\n",
    "custom_inception_model = keras.models.load_model(r\"C:\\Users\\jbaby\\documents\\Final_yr_pro\\Fixed\\Alzi_MRI_model\\alzheimer_cnn_model\", \n",
    "                                                 custom_objects={'F1Score': F1Score})\n",
    "\n",
    "# Load and preprocess the input image\n",
    "img_path = r\"C:\\Users\\jbaby\\documents\\Final_yr_pro\\Fixed\\Alzi_MRI_model\\Data\\ModerateDemented\\ModerateDemented.jpg\"\n",
    "img = image.load_img(img_path, target_size=(176, 176))  # Resize to match model's input shape\n",
    "img_array = image.img_to_array(img)\n",
    "img_array = np.expand_dims(img_array, axis=0)\n",
    "img_array = preprocess_input(img_array)\n",
    "\n",
    "# Make predictions\n",
    "predictions = custom_inception_model.predict(img_array)\n",
    "\n",
    "# Get the top-4 predicted classes\n",
    "top4_classes = np.argsort(predictions[0])[-4:][::-1]\n",
    "\n",
    "# Print the top-4 predicted classes and their scores along with the class names\n",
    "for i, class_index in enumerate(top4_classes):\n",
    "    class_name = CLASSES[class_index]\n",
    "    score = predictions[0][class_index]\n",
    "    print(f\"{i + 1}: {class_name} ({score:.2f})\")\n"
   ]
  },
  {
   "cell_type": "code",
   "execution_count": null,
   "id": "a4a74b11",
   "metadata": {},
   "outputs": [],
   "source": []
  }
 ],
 "metadata": {
  "kernelspec": {
   "display_name": "Python 3 (ipykernel)",
   "language": "python",
   "name": "python3"
  },
  "language_info": {
   "codemirror_mode": {
    "name": "ipython",
    "version": 3
   },
   "file_extension": ".py",
   "mimetype": "text/x-python",
   "name": "python",
   "nbconvert_exporter": "python",
   "pygments_lexer": "ipython3",
   "version": "3.11.5"
  }
 },
 "nbformat": 4,
 "nbformat_minor": 5
}
