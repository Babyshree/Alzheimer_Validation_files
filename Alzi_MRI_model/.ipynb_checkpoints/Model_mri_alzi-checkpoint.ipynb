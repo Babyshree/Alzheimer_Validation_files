{
 "cells": [
  {
   "cell_type": "code",
   "execution_count": 1,
   "id": "704c7109",
   "metadata": {},
   "outputs": [
    {
     "name": "stdout",
     "output_type": "stream",
     "text": [
      "WARNING:tensorflow:From C:\\Users\\jbaby\\AppData\\Roaming\\Python\\Python311\\site-packages\\keras\\src\\losses.py:2976: The name tf.losses.sparse_softmax_cross_entropy is deprecated. Please use tf.compat.v1.losses.sparse_softmax_cross_entropy instead.\n",
      "\n"
     ]
    },
    {
     "name": "stderr",
     "output_type": "stream",
     "text": [
      "C:\\Users\\jbaby\\AppData\\Roaming\\Python\\Python311\\site-packages\\tensorflow_addons\\utils\\tfa_eol_msg.py:23: UserWarning: \n",
      "\n",
      "TensorFlow Addons (TFA) has ended development and introduction of new features.\n",
      "TFA has entered a minimal maintenance and release mode until a planned end of life in May 2024.\n",
      "Please modify downstream libraries to take dependencies from other repositories in our TensorFlow community (e.g. Keras, Keras-CV, and Keras-NLP). \n",
      "\n",
      "For more information see: https://github.com/tensorflow/addons/issues/2807 \n",
      "\n",
      "  warnings.warn(\n",
      "C:\\Users\\jbaby\\AppData\\Roaming\\Python\\Python311\\site-packages\\tensorflow_addons\\utils\\ensure_tf_install.py:53: UserWarning: Tensorflow Addons supports using Python ops for all Tensorflow versions above or equal to 2.12.0 and strictly below 2.15.0 (nightly versions are not supported). \n",
      " The versions of TensorFlow you are currently using is 2.15.0 and is not supported. \n",
      "Some things might work, some things might not.\n",
      "If you were to encounter a bug, do not file an issue.\n",
      "If you want to make sure you're using a tested and supported configuration, either change the TensorFlow version or the TensorFlow Addons's version. \n",
      "You can find the compatibility matrix in TensorFlow Addon's readme:\n",
      "https://github.com/tensorflow/addons\n",
      "  warnings.warn(\n"
     ]
    },
    {
     "name": "stdout",
     "output_type": "stream",
     "text": [
      "WARNING:tensorflow:From C:\\Users\\jbaby\\AppData\\Roaming\\Python\\Python311\\site-packages\\keras\\src\\backend.py:1398: The name tf.executing_eagerly_outside_functions is deprecated. Please use tf.compat.v1.executing_eagerly_outside_functions instead.\n",
      "\n",
      "WARNING:tensorflow:From C:\\Users\\jbaby\\AppData\\Roaming\\Python\\Python311\\site-packages\\keras\\src\\layers\\pooling\\max_pooling2d.py:161: The name tf.nn.max_pool is deprecated. Please use tf.nn.max_pool2d instead.\n",
      "\n",
      "1/1 [==============================] - 1s 750ms/step\n",
      "1: NonDemented (1.00)\n",
      "2: VeryMildDemented (0.00)\n",
      "3: MildDemented (0.00)\n",
      "4: ModerateDemented (0.00)\n"
     ]
    }
   ],
   "source": [
    "from tensorflow import keras\n",
    "from tensorflow.keras.preprocessing import image\n",
    "from tensorflow.keras.applications.inception_v3 import preprocess_input, decode_predictions\n",
    "import numpy as np\n",
    "\n",
    "from tensorflow_addons.metrics import F1Score\n",
    "\n",
    "CLASSES = ['NonDemented', 'VeryMildDemented', 'MildDemented', 'ModerateDemented']\n",
    "\n",
    "# Load your custom Inception model\"C:\\Users\\jbaby\\documents\\Final_yr_pro\\Fixed\\Alzi_MRI_model\"\n",
    "custom_inception_model = keras.models.load_model(r\"C:\\Users\\jbaby\\documents\\Final_yr_pro\\Fixed\\Alzi_MRI_model\\alzheimer_cnn_model\", \n",
    "                                                 custom_objects={'F1Score': F1Score})\n",
    "\n",
    "# Load and preprocess the input image\n",
    "img_path = r\"C:\\Users\\jbaby\\documents\\Final_yr_pro\\Fixed\\Alzi_MRI_model\\Data\\NonDemented\\NonDemented_10.jpg\"\n",
    "img = image.load_img(img_path, target_size=(176, 176))  # Resize to match model's input shape\n",
    "img_array = image.img_to_array(img)\n",
    "img_array = np.expand_dims(img_array, axis=0)\n",
    "img_array = preprocess_input(img_array)\n",
    "\n",
    "# Make predictions\n",
    "predictions = custom_inception_model.predict(img_array)\n",
    "\n",
    "# Get the top-4 predicted classes\n",
    "top4_classes = np.argsort(predictions[0])[-4:][::-1]\n",
    "\n",
    "# Print the top-4 predicted classes and their scores along with the class names\n",
    "for i, class_index in enumerate(top4_classes):\n",
    "    class_name = CLASSES[class_index]\n",
    "    score = predictions[0][class_index]\n",
    "    print(f\"{i + 1}: {class_name} ({score:.2f})\")\n"
   ]
  },
  {
   "cell_type": "code",
   "execution_count": null,
   "id": "a4a74b11",
   "metadata": {},
   "outputs": [],
   "source": []
  }
 ],
 "metadata": {
  "kernelspec": {
   "display_name": "Python 3 (ipykernel)",
   "language": "python",
   "name": "python3"
  },
  "language_info": {
   "codemirror_mode": {
    "name": "ipython",
    "version": 3
   },
   "file_extension": ".py",
   "mimetype": "text/x-python",
   "name": "python",
   "nbconvert_exporter": "python",
   "pygments_lexer": "ipython3",
   "version": "3.11.5"
  }
 },
 "nbformat": 4,
 "nbformat_minor": 5
}
